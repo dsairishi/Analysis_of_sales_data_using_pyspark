{
 "cells": [
  {
   "cell_type": "code",
   "execution_count": 1,
   "metadata": {},
   "outputs": [
    {
     "name": "stdout",
     "output_type": "stream",
     "text": [
      "2.4.7\n",
      "2.4.7\n"
     ]
    }
   ],
   "source": [
    "#*******Importing Libraries.\n",
    "import findspark\n",
    "findspark.init()\n",
    "import pyspark\n",
    "from pyspark import SparkContext\n",
    "from pyspark import SQLContext\n",
    "from pyspark.sql import SparkSession\n",
    "sc = SparkContext.getOrCreate()\n",
    "spark = SparkSession.builder.getOrCreate()\n",
    "print(sc.version)\n",
    "print(spark.version)\n",
    "#********PySpark connect\n",
    "\n",
    "\n",
    "#************Importing other functions\n",
    "from pyspark.sql.functions import *\n",
    "\n",
    "import re\n",
    "    \n",
    "#Importing Matplotlib. \n",
    "import matplotlib.pyplot as plt\n",
    "%matplotlib inline"
   ]
  },
  {
   "cell_type": "code",
   "execution_count": 2,
   "metadata": {},
   "outputs": [
    {
     "data": {
      "text/html": [
       "<style>.container { width:90% !important; }</style>"
      ],
      "text/plain": [
       "<IPython.core.display.HTML object>"
      ]
     },
     "metadata": {},
     "output_type": "display_data"
    }
   ],
   "source": [
    "# Increasing the width of the page.\n",
    "from IPython.core.display import display, HTML\n",
    "display(HTML(\"<style>.container { width:90% !important; }</style>\"))"
   ]
  },
  {
   "cell_type": "code",
   "execution_count": 3,
   "metadata": {},
   "outputs": [],
   "source": [
    "#Reading CSV to Spark dataframe\n",
    "Sales = spark.read.options(header='True', inferSchema='True') \\\n",
    "  .csv(\"O:/MS/ECE552/Final_Project/1500000 Sales Records/1500000 Sales Records.csv\")"
   ]
  },
  {
   "cell_type": "code",
   "execution_count": 4,
   "metadata": {},
   "outputs": [
    {
     "name": "stdout",
     "output_type": "stream",
     "text": [
      "+--------------------+----------------+---------+-------------+--------------+----------+---------+----------+----------+----------+---------+-------------+----------+------------+\n",
      "|              Region|         Country|Item Type|Sales Channel|Order Priority|Order Date| Order ID| Ship Date|Units Sold|Unit Price|Unit Cost|Total Revenue|Total Cost|Total Profit|\n",
      "+--------------------+----------------+---------+-------------+--------------+----------+---------+----------+----------+----------+---------+-------------+----------+------------+\n",
      "|  Sub-Saharan Africa|    South Africa|   Fruits|      Offline|             M| 7/27/2012|443368995| 7/28/2012|      1593|      9.33|     6.92|     14862.69|  11023.56|     3839.13|\n",
      "|Middle East and N...|         Morocco|  Clothes|       Online|             M| 9/14/2013|667593514|10/19/2013|      4611|    109.28|    35.84|    503890.08| 165258.24|   338631.84|\n",
      "|Australia and Oce...|Papua New Guinea|     Meat|      Offline|             M| 5/15/2015|940995585|  6/4/2015|       360|    421.89|   364.69|     151880.4|  131288.4|     20592.0|\n",
      "|  Sub-Saharan Africa|        Djibouti|  Clothes|      Offline|             H| 5/17/2017|880811536|  7/2/2017|       562|    109.28|    35.84|     61415.36|  20142.08|    41273.28|\n",
      "|              Europe|        Slovakia|Beverages|      Offline|             L|10/26/2016|174590194| 12/4/2016|      3973|     47.45|    31.79|    188518.85| 126301.67|    62217.18|\n",
      "+--------------------+----------------+---------+-------------+--------------+----------+---------+----------+----------+----------+---------+-------------+----------+------------+\n",
      "only showing top 5 rows\n",
      "\n"
     ]
    }
   ],
   "source": [
    "Sales.show(5)"
   ]
  },
  {
   "cell_type": "code",
   "execution_count": 5,
   "metadata": {},
   "outputs": [
    {
     "data": {
      "text/plain": [
       "['Region',\n",
       " 'Country',\n",
       " 'Item Type',\n",
       " 'Sales Channel',\n",
       " 'Order Priority',\n",
       " 'Order Date',\n",
       " 'Order ID',\n",
       " 'Ship Date',\n",
       " 'Units Sold',\n",
       " 'Unit Price',\n",
       " 'Unit Cost',\n",
       " 'Total Revenue',\n",
       " 'Total Cost',\n",
       " 'Total Profit']"
      ]
     },
     "execution_count": 5,
     "metadata": {},
     "output_type": "execute_result"
    }
   ],
   "source": [
    "# Printing Sales columns\n",
    "Sales.columns"
   ]
  },
  {
   "cell_type": "code",
   "execution_count": 6,
   "metadata": {},
   "outputs": [],
   "source": [
    "# Checking Null values. "
   ]
  },
  {
   "cell_type": "code",
   "execution_count": 7,
   "metadata": {},
   "outputs": [
    {
     "name": "stdout",
     "output_type": "stream",
     "text": [
      "+------+-------+---------+-------------+--------------+----------+--------+---------+----------+----------+---------+-------------+----------+------------+\n",
      "|Region|Country|Item Type|Sales Channel|Order Priority|Order Date|Order ID|Ship Date|Units Sold|Unit Price|Unit Cost|Total Revenue|Total Cost|Total Profit|\n",
      "+------+-------+---------+-------------+--------------+----------+--------+---------+----------+----------+---------+-------------+----------+------------+\n",
      "|     0|      0|        0|            0|             0|         0|       0|        0|         0|         0|        0|            0|         0|           0|\n",
      "+------+-------+---------+-------------+--------------+----------+--------+---------+----------+----------+---------+-------------+----------+------------+\n",
      "\n"
     ]
    }
   ],
   "source": [
    "Sales.select([count(when(isnan(c) | col(c).isNull(), c)).alias(c) for c in Sales.columns]).show()"
   ]
  },
  {
   "cell_type": "code",
   "execution_count": 8,
   "metadata": {},
   "outputs": [],
   "source": [
    "# Replacing spaces in column names with \"_\" for converting into parquet form. \n",
    "Sales = Sales.select([col(c).alias(re.sub(\"[^0-9a-zA-Z$]+\",\"_\",c)) for c in Sales.columns])"
   ]
  },
  {
   "cell_type": "code",
   "execution_count": 9,
   "metadata": {},
   "outputs": [
    {
     "data": {
      "text/plain": [
       "['Region',\n",
       " 'Country',\n",
       " 'Item_Type',\n",
       " 'Sales_Channel',\n",
       " 'Order_Priority',\n",
       " 'Order_Date',\n",
       " 'Order_ID',\n",
       " 'Ship_Date',\n",
       " 'Units_Sold',\n",
       " 'Unit_Price',\n",
       " 'Unit_Cost',\n",
       " 'Total_Revenue',\n",
       " 'Total_Cost',\n",
       " 'Total_Profit']"
      ]
     },
     "execution_count": 9,
     "metadata": {},
     "output_type": "execute_result"
    }
   ],
   "source": [
    "# Printing column names.\n",
    "Sales.columns"
   ]
  },
  {
   "cell_type": "code",
   "execution_count": null,
   "metadata": {},
   "outputs": [],
   "source": [
    "# Converting CSV to paraquet\n",
    "\n",
    "Sales.write.parquet(\"O:/MS/ECE552/Final_Project/1500000 Sales Records/1500000 Sales Records.parquet\")"
   ]
  },
  {
   "cell_type": "code",
   "execution_count": 10,
   "metadata": {},
   "outputs": [],
   "source": [
    "# Reading Parquet file \n",
    "par_Sales = spark.read.parquet(\"O:/MS/ECE552/Final_Project/1500000 Sales Records/1500000 Sales Records.parquet\")\n"
   ]
  },
  {
   "cell_type": "code",
   "execution_count": 11,
   "metadata": {},
   "outputs": [
    {
     "name": "stdout",
     "output_type": "stream",
     "text": [
      "1500000\n",
      "root\n",
      " |-- Region: string (nullable = true)\n",
      " |-- Country: string (nullable = true)\n",
      " |-- Item_Type: string (nullable = true)\n",
      " |-- Sales_Channel: string (nullable = true)\n",
      " |-- Order_Priority: string (nullable = true)\n",
      " |-- Order_Date: string (nullable = true)\n",
      " |-- Order_ID: integer (nullable = true)\n",
      " |-- Ship_Date: string (nullable = true)\n",
      " |-- Units_Sold: integer (nullable = true)\n",
      " |-- Unit_Price: double (nullable = true)\n",
      " |-- Unit_Cost: double (nullable = true)\n",
      " |-- Total_Revenue: double (nullable = true)\n",
      " |-- Total_Cost: double (nullable = true)\n",
      " |-- Total_Profit: double (nullable = true)\n",
      "\n"
     ]
    }
   ],
   "source": [
    "# Printing number of rows and schema.\n",
    "print(par_Sales.count())\n",
    "par_Sales.printSchema()"
   ]
  },
  {
   "cell_type": "code",
   "execution_count": 12,
   "metadata": {},
   "outputs": [],
   "source": [
    "# Creating a view for SQL Opereations\n",
    "par_Sales.createOrReplaceTempView(\"par_Sales\")"
   ]
  },
  {
   "cell_type": "markdown",
   "metadata": {},
   "source": [
    "# Queries and Visualizations."
   ]
  },
  {
   "cell_type": "markdown",
   "metadata": {},
   "source": [
    "###### Top 10 countries having the highest revenue in Beverages?"
   ]
  },
  {
   "cell_type": "code",
   "execution_count": 13,
   "metadata": {},
   "outputs": [
    {
     "name": "stdout",
     "output_type": "stream",
     "text": [
      "Wall time: 0 ns\n",
      "+--------------+--------------------+\n",
      "|       Country|   Beverages_Revenue|\n",
      "+--------------+--------------------+\n",
      "|United Kingdom|        1.75227156E8|\n",
      "|       Finland|       1.731624167E8|\n",
      "|       Albania|       1.722891469E8|\n",
      "|        Serbia|1.7206793500000003E8|\n",
      "|       Namibia|1.7203918029999998E8|\n",
      "|         Spain|      1.7191661695E8|\n",
      "|  Saudi Arabia|1.7130845029999998E8|\n",
      "|        Kosovo|1.7056059085000002E8|\n",
      "|     Indonesia|       1.703835549E8|\n",
      "|      Ethiopia|      1.7011142915E8|\n",
      "+--------------+--------------------+\n",
      "\n"
     ]
    }
   ],
   "source": [
    "# SQL Query\n",
    "\n",
    "%time\n",
    "\n",
    "High_revenue_in_Beverages = spark.sql(\"SELECT Country,  sum(Total_Revenue) AS Beverages_Revenue FROM par_Sales WHERE Item_Type = 'Beverages' GROUP BY Country  ORDER BY 2 DESC LIMIT 10\")\n",
    "High_revenue_in_Beverages.show()"
   ]
  },
  {
   "cell_type": "code",
   "execution_count": 14,
   "metadata": {},
   "outputs": [
    {
     "data": {
      "text/plain": [
       "10"
      ]
     },
     "execution_count": 14,
     "metadata": {},
     "output_type": "execute_result"
    }
   ],
   "source": [
    "# Count of rows\n",
    "High_revenue_in_Beverages.count()"
   ]
  },
  {
   "cell_type": "code",
   "execution_count": 15,
   "metadata": {},
   "outputs": [],
   "source": [
    "# Converting to pandas dataframe.\n",
    "Beverages = High_revenue_in_Beverages.toPandas()"
   ]
  },
  {
   "cell_type": "code",
   "execution_count": 16,
   "metadata": {},
   "outputs": [],
   "source": [
    "# Seting Index\n",
    "Beverages.set_index('Country', inplace=True)"
   ]
  },
  {
   "cell_type": "code",
   "execution_count": 17,
   "metadata": {},
   "outputs": [
    {
     "data": {
      "text/plain": [
       "(170000000.0, 176000000.0)"
      ]
     },
     "execution_count": 17,
     "metadata": {},
     "output_type": "execute_result"
    },
    {
     "data": {
      "image/png": "[encoded data removed]",
      "text/plain": [
       "<Figure size 864x648 with 1 Axes>"
      ]
     },
     "metadata": {
      "needs_background": "light"
     },
     "output_type": "display_data"
    }
   ],
   "source": [
    "# Visualization\n",
    "BeveragesperCountry = Beverages.plot(kind='bar',figsize=(12,9),rot = 90,title = \"Revenue per Country\")\n",
    "BeveragesperCountry.set_xlabel(\"Countries\")\n",
    "BeveragesperCountry.set_ylabel(\"Revenue in USD\")\n",
    "BeveragesperCountry.set_ylim(bottom = 1.7E8, top = 1.76E8)"
   ]
  },
  {
   "cell_type": "markdown",
   "metadata": {},
   "source": [
    "###### Total profit for different sales channel. "
   ]
  },
  {
   "cell_type": "code",
   "execution_count": 18,
   "metadata": {},
   "outputs": [
    {
     "name": "stdout",
     "output_type": "stream",
     "text": [
      "+-------------+---------------+---------+\n",
      "|Sales_Channel|      Item_Type|   Profit|\n",
      "+-------------+---------------+---------+\n",
      "|       Online|      Baby Food| 958600.0|\n",
      "|       Online|      Beverages| 156600.0|\n",
      "|       Online|         Cereal| 885900.0|\n",
      "|       Online|        Clothes| 734400.0|\n",
      "|       Online|      Cosmetics|1738700.0|\n",
      "|       Online|         Fruits|  24100.0|\n",
      "|       Online|      Household|1657300.0|\n",
      "|       Online|           Meat| 572000.0|\n",
      "|       Online|Office Supplies|1262500.0|\n",
      "|       Online|  Personal Care| 250600.0|\n",
      "|       Online|         Snacks| 551400.0|\n",
      "|       Online|     Vegetables| 631300.0|\n",
      "|      Offline|      Baby Food| 958600.0|\n",
      "|      Offline|      Beverages| 156600.0|\n",
      "|      Offline|         Cereal| 885900.0|\n",
      "|      Offline|        Clothes| 734400.0|\n",
      "|      Offline|      Cosmetics|1738700.0|\n",
      "|      Offline|         Fruits|  24100.0|\n",
      "|      Offline|      Household|1657300.0|\n",
      "|      Offline|           Meat| 572000.0|\n",
      "|      Offline|Office Supplies|1262500.0|\n",
      "|      Offline|  Personal Care| 250600.0|\n",
      "|      Offline|         Snacks| 551400.0|\n",
      "|      Offline|     Vegetables| 631300.0|\n",
      "+-------------+---------------+---------+\n",
      "\n"
     ]
    }
   ],
   "source": [
    "#SQL Query\n",
    "Sales_channel_revenue = spark.sql(\"SELECT Sales_Channel, Item_Type, max(Total_Profit) AS Profit FROM par_Sales GROUP BY Sales_Channel, Item_Type  ORDER BY Sales_Channel DESC, Item_Type ASC\")\n",
    "Sales_channel_revenue.show(25)"
   ]
  },
  {
   "cell_type": "code",
   "execution_count": 19,
   "metadata": {},
   "outputs": [
    {
     "data": {
      "text/plain": [
       "24"
      ]
     },
     "execution_count": 19,
     "metadata": {},
     "output_type": "execute_result"
    }
   ],
   "source": [
    "# Rows Count\n",
    "Sales_channel_revenue.count()"
   ]
  },
  {
   "cell_type": "code",
   "execution_count": 20,
   "metadata": {},
   "outputs": [],
   "source": [
    "# Converting to pandas data frame\n",
    "Channel = Sales_channel_revenue.toPandas()"
   ]
  },
  {
   "cell_type": "code",
   "execution_count": 21,
   "metadata": {},
   "outputs": [],
   "source": [
    "# Segreagting offline and online dataframes.\n",
    "Online_sales = Channel[Channel['Sales_Channel'] == 'Online' ]\n",
    "Offline_sales = Channel[Channel['Sales_Channel'] == 'Offline']\n",
    "\n"
   ]
  },
  {
   "cell_type": "code",
   "execution_count": 22,
   "metadata": {},
   "outputs": [
    {
     "data": {
      "text/html": [
       "<div>\n",
       "<style scoped>\n",
       "    .dataframe tbody tr th:only-of-type {\n",
       "        vertical-align: middle;\n",
       "    }\n",
       "\n",
       "    .dataframe tbody tr th {\n",
       "        vertical-align: top;\n",
       "    }\n",
       "\n",
       "    .dataframe thead th {\n",
       "        text-align: right;\n",
       "    }\n",
       "</style>\n",
       "<table border=\"1\" class=\"dataframe\">\n",
       "  <thead>\n",
       "    <tr style=\"text-align: right;\">\n",
       "      <th></th>\n",
       "      <th>Sales_Channel</th>\n",
       "      <th>Item_Type</th>\n",
       "      <th>Profit</th>\n",
       "    </tr>\n",
       "  </thead>\n",
       "  <tbody>\n",
       "    <tr>\n",
       "      <th>12</th>\n",
       "      <td>Offline</td>\n",
       "      <td>Baby Food</td>\n",
       "      <td>958600.0</td>\n",
       "    </tr>\n",
       "    <tr>\n",
       "      <th>13</th>\n",
       "      <td>Offline</td>\n",
       "      <td>Beverages</td>\n",
       "      <td>156600.0</td>\n",
       "    </tr>\n",
       "    <tr>\n",
       "      <th>14</th>\n",
       "      <td>Offline</td>\n",
       "      <td>Cereal</td>\n",
       "      <td>885900.0</td>\n",
       "    </tr>\n",
       "    <tr>\n",
       "      <th>15</th>\n",
       "      <td>Offline</td>\n",
       "      <td>Clothes</td>\n",
       "      <td>734400.0</td>\n",
       "    </tr>\n",
       "    <tr>\n",
       "      <th>16</th>\n",
       "      <td>Offline</td>\n",
       "      <td>Cosmetics</td>\n",
       "      <td>1738700.0</td>\n",
       "    </tr>\n",
       "    <tr>\n",
       "      <th>17</th>\n",
       "      <td>Offline</td>\n",
       "      <td>Fruits</td>\n",
       "      <td>24100.0</td>\n",
       "    </tr>\n",
       "    <tr>\n",
       "      <th>18</th>\n",
       "      <td>Offline</td>\n",
       "      <td>Household</td>\n",
       "      <td>1657300.0</td>\n",
       "    </tr>\n",
       "    <tr>\n",
       "      <th>19</th>\n",
       "      <td>Offline</td>\n",
       "      <td>Meat</td>\n",
       "      <td>572000.0</td>\n",
       "    </tr>\n",
       "    <tr>\n",
       "      <th>20</th>\n",
       "      <td>Offline</td>\n",
       "      <td>Office Supplies</td>\n",
       "      <td>1262500.0</td>\n",
       "    </tr>\n",
       "    <tr>\n",
       "      <th>21</th>\n",
       "      <td>Offline</td>\n",
       "      <td>Personal Care</td>\n",
       "      <td>250600.0</td>\n",
       "    </tr>\n",
       "    <tr>\n",
       "      <th>22</th>\n",
       "      <td>Offline</td>\n",
       "      <td>Snacks</td>\n",
       "      <td>551400.0</td>\n",
       "    </tr>\n",
       "    <tr>\n",
       "      <th>23</th>\n",
       "      <td>Offline</td>\n",
       "      <td>Vegetables</td>\n",
       "      <td>631300.0</td>\n",
       "    </tr>\n",
       "  </tbody>\n",
       "</table>\n",
       "</div>"
      ],
      "text/plain": [
       "   Sales_Channel        Item_Type     Profit\n",
       "12       Offline        Baby Food   958600.0\n",
       "13       Offline        Beverages   156600.0\n",
       "14       Offline           Cereal   885900.0\n",
       "15       Offline          Clothes   734400.0\n",
       "16       Offline        Cosmetics  1738700.0\n",
       "17       Offline           Fruits    24100.0\n",
       "18       Offline        Household  1657300.0\n",
       "19       Offline             Meat   572000.0\n",
       "20       Offline  Office Supplies  1262500.0\n",
       "21       Offline    Personal Care   250600.0\n",
       "22       Offline           Snacks   551400.0\n",
       "23       Offline       Vegetables   631300.0"
      ]
     },
     "execution_count": 22,
     "metadata": {},
     "output_type": "execute_result"
    }
   ],
   "source": [
    "Offline_sales"
   ]
  },
  {
   "cell_type": "code",
   "execution_count": 23,
   "metadata": {},
   "outputs": [
    {
     "data": {
      "image/png": "[encoded data removed]",
      "text/plain": [
       "<Figure size 1500x800 with 1 Axes>"
      ]
     },
     "metadata": {},
     "output_type": "display_data"
    }
   ],
   "source": [
    "#Visulaization\n",
    "fig = plt.figure(figsize=(15,8), dpi=100)\n",
    "plt.pie(Online_sales['Profit'], labels=Online_sales['Item_Type'], autopct='%1.1f%%',\n",
    "         startangle=90 )\n",
    "plt.axis('equal')  # Equal aspect ratio ensures that pie is drawn as a circle.\n",
    "plt.title(\"Percent of different items sold online\" , fontsize = 20)\n",
    "plt.show()"
   ]
  },
  {
   "cell_type": "code",
   "execution_count": 25,
   "metadata": {},
   "outputs": [
    {
     "data": {
      "text/plain": [
       "Text(0.5, 1.0, 'Offline Sales of different items')"
      ]
     },
     "execution_count": 25,
     "metadata": {},
     "output_type": "execute_result"
    },
    {
     "data": {
      "image/png": "[encoded data removed]",
      "text/plain": [
       "<Figure size 1200x600 with 1 Axes>"
      ]
     },
     "metadata": {
      "needs_background": "light"
     },
     "output_type": "display_data"
    }
   ],
   "source": [
    "#Visualization\n",
    "fig = plt.figure(figsize=(12, 6), dpi=100)\n",
    "plt.plot( Offline_sales['Item_Type'], Offline_sales['Profit'], 'o', markersize = 15)\n",
    "plt.xlabel(\"Different types of Items\", size = 20)\n",
    "plt.ylabel(\"Profit in USD\", size = 20)\n",
    "plt.title(\"Offline Sales of different items\" , fontsize = 20)"
   ]
  },
  {
   "cell_type": "markdown",
   "metadata": {},
   "source": [
    "###### Total profit based on Order priority for North America region. "
   ]
  },
  {
   "cell_type": "code",
   "execution_count": 26,
   "metadata": {},
   "outputs": [
    {
     "name": "stdout",
     "output_type": "stream",
     "text": [
      "+--------------+--------------------+\n",
      "|Order_Priority|        total_profit|\n",
      "+--------------+--------------------+\n",
      "|             H|3.2664192750599995E9|\n",
      "|             C|3.2364849875500007E9|\n",
      "|             L|3.1815455767899995E9|\n",
      "|             M|3.1047565680399995E9|\n",
      "+--------------+--------------------+\n",
      "\n"
     ]
    }
   ],
   "source": [
    "#SQL Query \n",
    "Region_Item_priority = spark.sql(\"SELECT Order_Priority, sum(Total_Profit) as total_profit FROM par_Sales where Region='North America' GROUP BY Order_Priority ORDER BY 2 DESC\")\n",
    "Region_Item_priority.show()"
   ]
  },
  {
   "cell_type": "code",
   "execution_count": 27,
   "metadata": {},
   "outputs": [],
   "source": [
    "#Converting to pandas dataframe\n",
    "Priority = Region_Item_priority.toPandas()"
   ]
  },
  {
   "cell_type": "code",
   "execution_count": 28,
   "metadata": {},
   "outputs": [],
   "source": [
    "#Setting index\n",
    "Priority.set_index('Order_Priority', inplace=True)"
   ]
  },
  {
   "cell_type": "code",
   "execution_count": 29,
   "metadata": {},
   "outputs": [
    {
     "data": {
      "text/plain": [
       "(3100000000.0, 3300000000.0)"
      ]
     },
     "execution_count": 29,
     "metadata": {},
     "output_type": "execute_result"
    },
    {
     "data": {
      "image/png": "[encoded data removed]",
      "text/plain": [
       "<Figure size 864x432 with 1 Axes>"
      ]
     },
     "metadata": {
      "needs_background": "light"
     },
     "output_type": "display_data"
    }
   ],
   "source": [
    "#Visulaization\n",
    "Region_Item_priorityperRegion = Priority.plot(kind='bar',figsize=(12,6),rot = 90,title = \"Total profit of North America Priority wise\")\n",
    "Region_Item_priorityperRegion.set_xlabel(\"Order_Priority\")\n",
    "Region_Item_priorityperRegion.set_ylabel(\"total_profit\")\n",
    "Region_Item_priorityperRegion.set_ylim(bottom = 3.1E9, top = 3.3E9)"
   ]
  },
  {
   "cell_type": "markdown",
   "metadata": {},
   "source": [
    "###### Total profit per order priority per region"
   ]
  },
  {
   "cell_type": "code",
   "execution_count": 30,
   "metadata": {},
   "outputs": [
    {
     "name": "stdout",
     "output_type": "stream",
     "text": [
      "+--------------------+--------------+--------------------+\n",
      "|              Region|Order_Priority|        total_profit|\n",
      "+--------------------+--------------+--------------------+\n",
      "|  Sub-Saharan Africa|             M|3.811891036107002E10|\n",
      "|  Sub-Saharan Africa|             H|   3.822989010833E10|\n",
      "|  Sub-Saharan Africa|             C|3.831342293604003E10|\n",
      "|  Sub-Saharan Africa|             L|3.826010512261997E10|\n",
      "|       North America|             L|3.1815455767899995E9|\n",
      "|       North America|             C|3.2364849875500007E9|\n",
      "|       North America|             H|3.2664192750599995E9|\n",
      "|       North America|             M|3.1047565680399995E9|\n",
      "|Middle East and N...|             M|1.820342400693001E10|\n",
      "|Middle East and N...|             C|1.839737387067997...|\n",
      "|Middle East and N...|             L|    1.82426361554E10|\n",
      "|Middle East and N...|             H|1.825041011515999...|\n",
      "|              Europe|             M|3.820709495300996E10|\n",
      "|              Europe|             H|3.819803628242996E10|\n",
      "|              Europe|             C|3.818546525010003E10|\n",
      "|              Europe|             L|3.807499732514005E10|\n",
      "|Central America a...|             M|1.582165912542001...|\n",
      "|Central America a...|             L|1.601517667632001E10|\n",
      "|Central America a...|             H|1.589430100462999...|\n",
      "|Central America a...|             C|1.589283188958999E10|\n",
      "|Australia and Oce...|             L|1.196510006754000...|\n",
      "|Australia and Oce...|             C|1.197852128255999...|\n",
      "|Australia and Oce...|             H|1.195612085250999...|\n",
      "|Australia and Oce...|             M|1.177041530289000...|\n",
      "|                Asia|             L|   2.142749277479E10|\n",
      "|                Asia|             M|2.155812359028001E10|\n",
      "|                Asia|             C|2.141064977712001...|\n",
      "|                Asia|             H|2.143853914161000...|\n",
      "+--------------------+--------------+--------------------+\n",
      "\n"
     ]
    }
   ],
   "source": [
    "# SQL Query\n",
    "Priority_per_region = spark.sql(\"SELECT Region, Order_Priority, sum(Total_Profit) as total_profit FROM par_Sales GROUP BY Region,Order_Priority ORDER BY 1 DESC\")\n",
    "Priority_per_region.show(30)"
   ]
  },
  {
   "cell_type": "code",
   "execution_count": 31,
   "metadata": {},
   "outputs": [
    {
     "data": {
      "text/plain": [
       "28"
      ]
     },
     "execution_count": 31,
     "metadata": {},
     "output_type": "execute_result"
    }
   ],
   "source": [
    "# Rows Count\n",
    "Priority_per_region.count()"
   ]
  },
  {
   "cell_type": "code",
   "execution_count": 32,
   "metadata": {},
   "outputs": [],
   "source": [
    "# Converting to pandas dataframe\n",
    "Region_Priority = Priority_per_region.toPandas()"
   ]
  },
  {
   "cell_type": "code",
   "execution_count": 33,
   "metadata": {},
   "outputs": [
    {
     "data": {
      "text/html": [
       "<div>\n",
       "<style scoped>\n",
       "    .dataframe tbody tr th:only-of-type {\n",
       "        vertical-align: middle;\n",
       "    }\n",
       "\n",
       "    .dataframe tbody tr th {\n",
       "        vertical-align: top;\n",
       "    }\n",
       "\n",
       "    .dataframe thead th {\n",
       "        text-align: right;\n",
       "    }\n",
       "</style>\n",
       "<table border=\"1\" class=\"dataframe\">\n",
       "  <thead>\n",
       "    <tr style=\"text-align: right;\">\n",
       "      <th></th>\n",
       "      <th>Region</th>\n",
       "      <th>Order_Priority</th>\n",
       "      <th>total_profit</th>\n",
       "    </tr>\n",
       "  </thead>\n",
       "  <tbody>\n",
       "    <tr>\n",
       "      <th>0</th>\n",
       "      <td>Sub-Saharan Africa</td>\n",
       "      <td>M</td>\n",
       "      <td>3.811891e+10</td>\n",
       "    </tr>\n",
       "    <tr>\n",
       "      <th>1</th>\n",
       "      <td>Sub-Saharan Africa</td>\n",
       "      <td>C</td>\n",
       "      <td>3.831342e+10</td>\n",
       "    </tr>\n",
       "    <tr>\n",
       "      <th>2</th>\n",
       "      <td>Sub-Saharan Africa</td>\n",
       "      <td>H</td>\n",
       "      <td>3.822989e+10</td>\n",
       "    </tr>\n",
       "    <tr>\n",
       "      <th>3</th>\n",
       "      <td>Sub-Saharan Africa</td>\n",
       "      <td>L</td>\n",
       "      <td>3.826011e+10</td>\n",
       "    </tr>\n",
       "    <tr>\n",
       "      <th>4</th>\n",
       "      <td>North America</td>\n",
       "      <td>L</td>\n",
       "      <td>3.181546e+09</td>\n",
       "    </tr>\n",
       "    <tr>\n",
       "      <th>5</th>\n",
       "      <td>North America</td>\n",
       "      <td>C</td>\n",
       "      <td>3.236485e+09</td>\n",
       "    </tr>\n",
       "    <tr>\n",
       "      <th>6</th>\n",
       "      <td>North America</td>\n",
       "      <td>H</td>\n",
       "      <td>3.266419e+09</td>\n",
       "    </tr>\n",
       "    <tr>\n",
       "      <th>7</th>\n",
       "      <td>North America</td>\n",
       "      <td>M</td>\n",
       "      <td>3.104757e+09</td>\n",
       "    </tr>\n",
       "    <tr>\n",
       "      <th>8</th>\n",
       "      <td>Middle East and North Africa</td>\n",
       "      <td>M</td>\n",
       "      <td>1.820342e+10</td>\n",
       "    </tr>\n",
       "    <tr>\n",
       "      <th>9</th>\n",
       "      <td>Middle East and North Africa</td>\n",
       "      <td>H</td>\n",
       "      <td>1.825041e+10</td>\n",
       "    </tr>\n",
       "    <tr>\n",
       "      <th>10</th>\n",
       "      <td>Middle East and North Africa</td>\n",
       "      <td>C</td>\n",
       "      <td>1.839737e+10</td>\n",
       "    </tr>\n",
       "    <tr>\n",
       "      <th>11</th>\n",
       "      <td>Middle East and North Africa</td>\n",
       "      <td>L</td>\n",
       "      <td>1.824264e+10</td>\n",
       "    </tr>\n",
       "    <tr>\n",
       "      <th>12</th>\n",
       "      <td>Europe</td>\n",
       "      <td>C</td>\n",
       "      <td>3.818547e+10</td>\n",
       "    </tr>\n",
       "    <tr>\n",
       "      <th>13</th>\n",
       "      <td>Europe</td>\n",
       "      <td>M</td>\n",
       "      <td>3.820709e+10</td>\n",
       "    </tr>\n",
       "    <tr>\n",
       "      <th>14</th>\n",
       "      <td>Europe</td>\n",
       "      <td>H</td>\n",
       "      <td>3.819804e+10</td>\n",
       "    </tr>\n",
       "    <tr>\n",
       "      <th>15</th>\n",
       "      <td>Europe</td>\n",
       "      <td>L</td>\n",
       "      <td>3.807500e+10</td>\n",
       "    </tr>\n",
       "    <tr>\n",
       "      <th>16</th>\n",
       "      <td>Central America and the Caribbean</td>\n",
       "      <td>C</td>\n",
       "      <td>1.589283e+10</td>\n",
       "    </tr>\n",
       "    <tr>\n",
       "      <th>17</th>\n",
       "      <td>Central America and the Caribbean</td>\n",
       "      <td>H</td>\n",
       "      <td>1.589430e+10</td>\n",
       "    </tr>\n",
       "    <tr>\n",
       "      <th>18</th>\n",
       "      <td>Central America and the Caribbean</td>\n",
       "      <td>M</td>\n",
       "      <td>1.582166e+10</td>\n",
       "    </tr>\n",
       "    <tr>\n",
       "      <th>19</th>\n",
       "      <td>Central America and the Caribbean</td>\n",
       "      <td>L</td>\n",
       "      <td>1.601518e+10</td>\n",
       "    </tr>\n",
       "    <tr>\n",
       "      <th>20</th>\n",
       "      <td>Australia and Oceania</td>\n",
       "      <td>L</td>\n",
       "      <td>1.196510e+10</td>\n",
       "    </tr>\n",
       "    <tr>\n",
       "      <th>21</th>\n",
       "      <td>Australia and Oceania</td>\n",
       "      <td>H</td>\n",
       "      <td>1.195612e+10</td>\n",
       "    </tr>\n",
       "    <tr>\n",
       "      <th>22</th>\n",
       "      <td>Australia and Oceania</td>\n",
       "      <td>M</td>\n",
       "      <td>1.177042e+10</td>\n",
       "    </tr>\n",
       "    <tr>\n",
       "      <th>23</th>\n",
       "      <td>Australia and Oceania</td>\n",
       "      <td>C</td>\n",
       "      <td>1.197852e+10</td>\n",
       "    </tr>\n",
       "    <tr>\n",
       "      <th>24</th>\n",
       "      <td>Asia</td>\n",
       "      <td>H</td>\n",
       "      <td>2.143854e+10</td>\n",
       "    </tr>\n",
       "    <tr>\n",
       "      <th>25</th>\n",
       "      <td>Asia</td>\n",
       "      <td>L</td>\n",
       "      <td>2.142749e+10</td>\n",
       "    </tr>\n",
       "    <tr>\n",
       "      <th>26</th>\n",
       "      <td>Asia</td>\n",
       "      <td>M</td>\n",
       "      <td>2.155812e+10</td>\n",
       "    </tr>\n",
       "    <tr>\n",
       "      <th>27</th>\n",
       "      <td>Asia</td>\n",
       "      <td>C</td>\n",
       "      <td>2.141065e+10</td>\n",
       "    </tr>\n",
       "  </tbody>\n",
       "</table>\n",
       "</div>"
      ],
      "text/plain": [
       "                               Region Order_Priority  total_profit\n",
       "0                  Sub-Saharan Africa              M  3.811891e+10\n",
       "1                  Sub-Saharan Africa              C  3.831342e+10\n",
       "2                  Sub-Saharan Africa              H  3.822989e+10\n",
       "3                  Sub-Saharan Africa              L  3.826011e+10\n",
       "4                       North America              L  3.181546e+09\n",
       "5                       North America              C  3.236485e+09\n",
       "6                       North America              H  3.266419e+09\n",
       "7                       North America              M  3.104757e+09\n",
       "8        Middle East and North Africa              M  1.820342e+10\n",
       "9        Middle East and North Africa              H  1.825041e+10\n",
       "10       Middle East and North Africa              C  1.839737e+10\n",
       "11       Middle East and North Africa              L  1.824264e+10\n",
       "12                             Europe              C  3.818547e+10\n",
       "13                             Europe              M  3.820709e+10\n",
       "14                             Europe              H  3.819804e+10\n",
       "15                             Europe              L  3.807500e+10\n",
       "16  Central America and the Caribbean              C  1.589283e+10\n",
       "17  Central America and the Caribbean              H  1.589430e+10\n",
       "18  Central America and the Caribbean              M  1.582166e+10\n",
       "19  Central America and the Caribbean              L  1.601518e+10\n",
       "20              Australia and Oceania              L  1.196510e+10\n",
       "21              Australia and Oceania              H  1.195612e+10\n",
       "22              Australia and Oceania              M  1.177042e+10\n",
       "23              Australia and Oceania              C  1.197852e+10\n",
       "24                               Asia              H  2.143854e+10\n",
       "25                               Asia              L  2.142749e+10\n",
       "26                               Asia              M  2.155812e+10\n",
       "27                               Asia              C  2.141065e+10"
      ]
     },
     "execution_count": 33,
     "metadata": {},
     "output_type": "execute_result"
    }
   ],
   "source": [
    "Region_Priority"
   ]
  },
  {
   "cell_type": "code",
   "execution_count": 34,
   "metadata": {},
   "outputs": [],
   "source": [
    "Region_per_Priority = Region_Priority.pivot(index = 'Region', columns = 'Order_Priority', values = 'total_profit')"
   ]
  },
  {
   "cell_type": "code",
   "execution_count": 35,
   "metadata": {},
   "outputs": [
    {
     "data": {
      "text/html": [
       "<div>\n",
       "<style scoped>\n",
       "    .dataframe tbody tr th:only-of-type {\n",
       "        vertical-align: middle;\n",
       "    }\n",
       "\n",
       "    .dataframe tbody tr th {\n",
       "        vertical-align: top;\n",
       "    }\n",
       "\n",
       "    .dataframe thead th {\n",
       "        text-align: right;\n",
       "    }\n",
       "</style>\n",
       "<table border=\"1\" class=\"dataframe\">\n",
       "  <thead>\n",
       "    <tr style=\"text-align: right;\">\n",
       "      <th>Order_Priority</th>\n",
       "      <th>C</th>\n",
       "      <th>H</th>\n",
       "      <th>L</th>\n",
       "      <th>M</th>\n",
       "    </tr>\n",
       "    <tr>\n",
       "      <th>Region</th>\n",
       "      <th></th>\n",
       "      <th></th>\n",
       "      <th></th>\n",
       "      <th></th>\n",
       "    </tr>\n",
       "  </thead>\n",
       "  <tbody>\n",
       "    <tr>\n",
       "      <th>Asia</th>\n",
       "      <td>2.141065e+10</td>\n",
       "      <td>2.143854e+10</td>\n",
       "      <td>2.142749e+10</td>\n",
       "      <td>2.155812e+10</td>\n",
       "    </tr>\n",
       "    <tr>\n",
       "      <th>Australia and Oceania</th>\n",
       "      <td>1.197852e+10</td>\n",
       "      <td>1.195612e+10</td>\n",
       "      <td>1.196510e+10</td>\n",
       "      <td>1.177042e+10</td>\n",
       "    </tr>\n",
       "    <tr>\n",
       "      <th>Central America and the Caribbean</th>\n",
       "      <td>1.589283e+10</td>\n",
       "      <td>1.589430e+10</td>\n",
       "      <td>1.601518e+10</td>\n",
       "      <td>1.582166e+10</td>\n",
       "    </tr>\n",
       "    <tr>\n",
       "      <th>Europe</th>\n",
       "      <td>3.818547e+10</td>\n",
       "      <td>3.819804e+10</td>\n",
       "      <td>3.807500e+10</td>\n",
       "      <td>3.820709e+10</td>\n",
       "    </tr>\n",
       "    <tr>\n",
       "      <th>Middle East and North Africa</th>\n",
       "      <td>1.839737e+10</td>\n",
       "      <td>1.825041e+10</td>\n",
       "      <td>1.824264e+10</td>\n",
       "      <td>1.820342e+10</td>\n",
       "    </tr>\n",
       "    <tr>\n",
       "      <th>North America</th>\n",
       "      <td>3.236485e+09</td>\n",
       "      <td>3.266419e+09</td>\n",
       "      <td>3.181546e+09</td>\n",
       "      <td>3.104757e+09</td>\n",
       "    </tr>\n",
       "    <tr>\n",
       "      <th>Sub-Saharan Africa</th>\n",
       "      <td>3.831342e+10</td>\n",
       "      <td>3.822989e+10</td>\n",
       "      <td>3.826011e+10</td>\n",
       "      <td>3.811891e+10</td>\n",
       "    </tr>\n",
       "  </tbody>\n",
       "</table>\n",
       "</div>"
      ],
      "text/plain": [
       "Order_Priority                                C             H             L  \\\n",
       "Region                                                                        \n",
       "Asia                               2.141065e+10  2.143854e+10  2.142749e+10   \n",
       "Australia and Oceania              1.197852e+10  1.195612e+10  1.196510e+10   \n",
       "Central America and the Caribbean  1.589283e+10  1.589430e+10  1.601518e+10   \n",
       "Europe                             3.818547e+10  3.819804e+10  3.807500e+10   \n",
       "Middle East and North Africa       1.839737e+10  1.825041e+10  1.824264e+10   \n",
       "North America                      3.236485e+09  3.266419e+09  3.181546e+09   \n",
       "Sub-Saharan Africa                 3.831342e+10  3.822989e+10  3.826011e+10   \n",
       "\n",
       "Order_Priority                                M  \n",
       "Region                                           \n",
       "Asia                               2.155812e+10  \n",
       "Australia and Oceania              1.177042e+10  \n",
       "Central America and the Caribbean  1.582166e+10  \n",
       "Europe                             3.820709e+10  \n",
       "Middle East and North Africa       1.820342e+10  \n",
       "North America                      3.104757e+09  \n",
       "Sub-Saharan Africa                 3.811891e+10  "
      ]
     },
     "execution_count": 35,
     "metadata": {},
     "output_type": "execute_result"
    }
   ],
   "source": [
    "Region_per_Priority"
   ]
  },
  {
   "cell_type": "code",
   "execution_count": 36,
   "metadata": {},
   "outputs": [
    {
     "data": {
      "image/png": "[encoded data removed]",
      "text/plain": [
       "<Figure size 864x432 with 1 Axes>"
      ]
     },
     "metadata": {
      "needs_background": "light"
     },
     "output_type": "display_data"
    }
   ],
   "source": [
    "#Visualization\n",
    "Region_per_priority1 = Region_per_Priority.plot(kind='bar', stacked=True, figsize=(12,6),\n",
    "        title='Profit per Region on basis of Order priority')\n",
    "Region_per_priority1.set_ylabel(\"Total Profit\", size = 20)\n",
    "Region_per_priority1.set_xlabel(\"Region\", size = 20)\n",
    "Region_per_priority1.title.set_size(20)"
   ]
  },
  {
   "cell_type": "markdown",
   "metadata": {},
   "source": [
    "###### Total_Profit Month wise for North America. "
   ]
  },
  {
   "cell_type": "code",
   "execution_count": 37,
   "metadata": {},
   "outputs": [
    {
     "name": "stdout",
     "output_type": "stream",
     "text": [
      "+----------+\n",
      "|Order_Date|\n",
      "+----------+\n",
      "|12/27/2010|\n",
      "|  7/9/2011|\n",
      "| 8/27/2013|\n",
      "|  7/1/2016|\n",
      "|  6/5/2016|\n",
      "|11/19/2010|\n",
      "| 4/27/2017|\n",
      "| 5/14/2016|\n",
      "| 3/31/2016|\n",
      "| 1/30/2011|\n",
      "|  1/4/2015|\n",
      "| 12/4/2012|\n",
      "| 4/23/2017|\n",
      "| 5/26/2011|\n",
      "|  8/3/2013|\n",
      "| 1/13/2013|\n",
      "|  5/2/2011|\n",
      "| 2/15/2011|\n",
      "|  5/6/2012|\n",
      "|12/28/2015|\n",
      "+----------+\n",
      "only showing top 20 rows\n",
      "\n"
     ]
    }
   ],
   "source": [
    "par_Sales.select('Order_Date').show()"
   ]
  },
  {
   "cell_type": "code",
   "execution_count": 38,
   "metadata": {},
   "outputs": [
    {
     "name": "stdout",
     "output_type": "stream",
     "text": [
      "+----------------------------+------------+---------------+-------------+--------------+----------+---------+----------+----------+----------+---------+-------------+----------+------------+-----+---+----+\n",
      "|Region                      |Country     |Item_Type      |Sales_Channel|Order_Priority|Order_Date|Order_ID |Ship_Date |Units_Sold|Unit_Price|Unit_Cost|Total_Revenue|Total_Cost|Total_Profit|Month|day|Year|\n",
      "+----------------------------+------------+---------------+-------------+--------------+----------+---------+----------+----------+----------+---------+-------------+----------+------------+-----+---+----+\n",
      "|Asia                        |Kyrgyzstan  |Baby Food      |Offline      |L             |12/27/2010|101368892|1/6/2011  |6163      |255.28    |159.42   |1573290.64   |982505.46 |590785.18   |12   |27 |2010|\n",
      "|Asia                        |China       |Clothes        |Offline      |M             |7/9/2011  |680699002|7/19/2011 |2816      |109.28    |35.84    |307732.48    |100925.44 |206807.04   |7    |9  |2011|\n",
      "|Europe                      |Russia      |Beverages      |Online       |L             |8/27/2013 |926882445|9/22/2013 |3968      |47.45     |31.79    |188281.6     |126142.72 |62138.88    |8    |27 |2013|\n",
      "|Europe                      |Latvia      |Baby Food      |Online       |L             |7/1/2016  |710280549|7/5/2016  |6653      |255.28    |159.42   |1698377.84   |1060621.26|637756.58   |7    |1  |2016|\n",
      "|Middle East and North Africa|Jordan      |Household      |Offline      |C             |6/5/2016  |871567142|7/5/2016  |4940      |668.27    |502.54   |3301253.8    |2482547.6 |818706.2    |6    |5  |2016|\n",
      "|Asia                        |Thailand    |Fruits         |Online       |C             |11/19/2010|971728551|11/19/2010|4927      |9.33      |6.92     |45968.91     |34094.84  |11874.07    |11   |19 |2010|\n",
      "|Sub-Saharan Africa          |Swaziland   |Fruits         |Online       |M             |4/27/2017 |642063605|4/30/2017 |9744      |9.33      |6.92     |90911.52     |67428.48  |23483.04    |4    |27 |2017|\n",
      "|Asia                        |China       |Beverages      |Online       |M             |5/14/2016 |934183633|6/21/2016 |4551      |47.45     |31.79    |215944.95    |144676.29 |71268.66    |5    |14 |2016|\n",
      "|Europe                      |Slovenia    |Personal Care  |Online       |H             |3/31/2016 |270012462|5/12/2016 |1543      |81.73     |56.67    |126109.39    |87441.81  |38667.58    |3    |31 |2016|\n",
      "|Asia                        |Turkmenistan|Fruits         |Offline      |C             |1/30/2011 |291786420|2/15/2011 |4941      |9.33      |6.92     |46099.53     |34191.72  |11907.81    |1    |30 |2011|\n",
      "|Middle East and North Africa|Iraq        |Cereal         |Online       |H             |1/4/2015  |912054336|1/4/2015  |6001      |205.7     |117.11   |1234405.7    |702777.11 |531628.59   |1    |4  |2015|\n",
      "|Sub-Saharan Africa          |The Gambia  |Baby Food      |Offline      |H             |12/4/2012 |763677537|1/22/2013 |8009      |255.28    |159.42   |2044537.52   |1276794.78|767742.74   |12   |4  |2012|\n",
      "|Europe                      |Ireland     |Baby Food      |Offline      |M             |4/23/2017 |349829852|4/24/2017 |1282      |255.28    |159.42   |327268.96    |204376.44 |122892.52   |4    |23 |2017|\n",
      "|Europe                      |Norway      |Snacks         |Online       |M             |5/26/2011 |693997609|6/8/2011  |8170      |152.58    |97.44    |1246578.6    |796084.8  |450493.8    |5    |26 |2011|\n",
      "|Sub-Saharan Africa          |Ghana       |Office Supplies|Online       |H             |8/3/2013  |189979636|8/29/2013 |8051      |651.21    |524.96   |5242891.71   |4226452.96|1016438.75  |8    |3  |2013|\n",
      "|Asia                        |Bhutan      |Vegetables     |Offline      |L             |1/13/2013 |451887261|3/1/2013  |2337      |154.06    |90.93    |360038.22    |212503.41 |147534.81   |1    |13 |2013|\n",
      "|Middle East and North Africa|Turkey      |Cosmetics      |Offline      |L             |5/2/2011  |464144313|5/20/2011 |9471      |437.2     |263.33   |4140721.2    |2493998.43|1646722.77  |5    |2  |2011|\n",
      "|Europe                      |San Marino  |Office Supplies|Online       |H             |2/15/2011 |631487119|2/15/2011 |9926      |651.21    |524.96   |6463910.46   |5210752.96|1253157.5   |2    |15 |2011|\n",
      "|Asia                        |Indonesia   |Household      |Online       |H             |5/6/2012  |528964507|6/12/2012 |1207      |668.27    |502.54   |806601.89    |606565.78 |200036.11   |5    |6  |2012|\n",
      "|Middle East and North Africa|Egypt       |Cereal         |Online       |M             |12/28/2015|251937806|2/4/2016  |2850      |205.7     |117.11   |586245.0     |333763.5  |252481.5    |12   |28 |2015|\n",
      "+----------------------------+------------+---------------+-------------+--------------+----------+---------+----------+----------+----------+---------+-------------+----------+------------+-----+---+----+\n",
      "only showing top 20 rows\n",
      "\n"
     ]
    }
   ],
   "source": [
    "# Creating seperate Month, Year and Day column.\n",
    "par_Sales = par_Sales.withColumn('Month', split(par_Sales['Order_Date'], '/').getItem(0)) \\\n",
    "       .withColumn('day', split(par_Sales['Order_Date'], '/').getItem(1)) \\\n",
    "       .withColumn('Year', split(par_Sales['Order_Date'], '/').getItem(2)) \n",
    "par_Sales.show(truncate=False)"
   ]
  },
  {
   "cell_type": "code",
   "execution_count": 39,
   "metadata": {},
   "outputs": [],
   "source": [
    "# Updating Month column with month names \n",
    "par_Sales = par_Sales.withColumn('Month',when(par_Sales['Month'] == 1, 'January')  \n",
    "                                    .when(par_Sales['Month'] == 2, 'February') \n",
    "                                    .when(par_Sales['Month'] == 3, 'March') \n",
    "                                    .when(par_Sales['Month'] == 4, 'April') \n",
    "                                    .when(par_Sales['Month'] == 5, 'May') \n",
    "                                    .when(par_Sales['Month'] == 6, 'June') \n",
    "                                    .when(par_Sales['Month'] == 7, 'July') \n",
    "                                    .when(par_Sales['Month'] == 8, 'August') \n",
    "                                    .when(par_Sales['Month'] == 9, 'September') \n",
    "                                    .when(par_Sales['Month'] == 10, 'October') \n",
    "                                    .when(par_Sales['Month'] == 11, 'November') \n",
    "                                    .when(par_Sales['Month'] == 12, 'December') \n",
    "                                    .otherwise('Null'))\n",
    "                "
   ]
  },
  {
   "cell_type": "code",
   "execution_count": 40,
   "metadata": {},
   "outputs": [
    {
     "name": "stdout",
     "output_type": "stream",
     "text": [
      "+--------------------+------------+---------------+-------------+--------------+----------+---------+----------+----------+----------+---------+-------------+----------+------------+--------+---+----+\n",
      "|              Region|     Country|      Item_Type|Sales_Channel|Order_Priority|Order_Date| Order_ID| Ship_Date|Units_Sold|Unit_Price|Unit_Cost|Total_Revenue|Total_Cost|Total_Profit|   Month|day|Year|\n",
      "+--------------------+------------+---------------+-------------+--------------+----------+---------+----------+----------+----------+---------+-------------+----------+------------+--------+---+----+\n",
      "|                Asia|  Kyrgyzstan|      Baby Food|      Offline|             L|12/27/2010|101368892|  1/6/2011|      6163|    255.28|   159.42|   1573290.64| 982505.46|   590785.18|December| 27|2010|\n",
      "|                Asia|       China|        Clothes|      Offline|             M|  7/9/2011|680699002| 7/19/2011|      2816|    109.28|    35.84|    307732.48| 100925.44|   206807.04|    July|  9|2011|\n",
      "|              Europe|      Russia|      Beverages|       Online|             L| 8/27/2013|926882445| 9/22/2013|      3968|     47.45|    31.79|     188281.6| 126142.72|    62138.88|  August| 27|2013|\n",
      "|              Europe|      Latvia|      Baby Food|       Online|             L|  7/1/2016|710280549|  7/5/2016|      6653|    255.28|   159.42|   1698377.84|1060621.26|   637756.58|    July|  1|2016|\n",
      "|Middle East and N...|      Jordan|      Household|      Offline|             C|  6/5/2016|871567142|  7/5/2016|      4940|    668.27|   502.54|    3301253.8| 2482547.6|    818706.2|    June|  5|2016|\n",
      "|                Asia|    Thailand|         Fruits|       Online|             C|11/19/2010|971728551|11/19/2010|      4927|      9.33|     6.92|     45968.91|  34094.84|    11874.07|November| 19|2010|\n",
      "|  Sub-Saharan Africa|   Swaziland|         Fruits|       Online|             M| 4/27/2017|642063605| 4/30/2017|      9744|      9.33|     6.92|     90911.52|  67428.48|    23483.04|   April| 27|2017|\n",
      "|                Asia|       China|      Beverages|       Online|             M| 5/14/2016|934183633| 6/21/2016|      4551|     47.45|    31.79|    215944.95| 144676.29|    71268.66|     May| 14|2016|\n",
      "|              Europe|    Slovenia|  Personal Care|       Online|             H| 3/31/2016|270012462| 5/12/2016|      1543|     81.73|    56.67|    126109.39|  87441.81|    38667.58|   March| 31|2016|\n",
      "|                Asia|Turkmenistan|         Fruits|      Offline|             C| 1/30/2011|291786420| 2/15/2011|      4941|      9.33|     6.92|     46099.53|  34191.72|    11907.81| January| 30|2011|\n",
      "|Middle East and N...|        Iraq|         Cereal|       Online|             H|  1/4/2015|912054336|  1/4/2015|      6001|     205.7|   117.11|    1234405.7| 702777.11|   531628.59| January|  4|2015|\n",
      "|  Sub-Saharan Africa|  The Gambia|      Baby Food|      Offline|             H| 12/4/2012|763677537| 1/22/2013|      8009|    255.28|   159.42|   2044537.52|1276794.78|   767742.74|December|  4|2012|\n",
      "|              Europe|     Ireland|      Baby Food|      Offline|             M| 4/23/2017|349829852| 4/24/2017|      1282|    255.28|   159.42|    327268.96| 204376.44|   122892.52|   April| 23|2017|\n",
      "|              Europe|      Norway|         Snacks|       Online|             M| 5/26/2011|693997609|  6/8/2011|      8170|    152.58|    97.44|    1246578.6|  796084.8|    450493.8|     May| 26|2011|\n",
      "|  Sub-Saharan Africa|       Ghana|Office Supplies|       Online|             H|  8/3/2013|189979636| 8/29/2013|      8051|    651.21|   524.96|   5242891.71|4226452.96|  1016438.75|  August|  3|2013|\n",
      "|                Asia|      Bhutan|     Vegetables|      Offline|             L| 1/13/2013|451887261|  3/1/2013|      2337|    154.06|    90.93|    360038.22| 212503.41|   147534.81| January| 13|2013|\n",
      "|Middle East and N...|      Turkey|      Cosmetics|      Offline|             L|  5/2/2011|464144313| 5/20/2011|      9471|     437.2|   263.33|    4140721.2|2493998.43|  1646722.77|     May|  2|2011|\n",
      "|              Europe|  San Marino|Office Supplies|       Online|             H| 2/15/2011|631487119| 2/15/2011|      9926|    651.21|   524.96|   6463910.46|5210752.96|   1253157.5|February| 15|2011|\n",
      "|                Asia|   Indonesia|      Household|       Online|             H|  5/6/2012|528964507| 6/12/2012|      1207|    668.27|   502.54|    806601.89| 606565.78|   200036.11|     May|  6|2012|\n",
      "|Middle East and N...|       Egypt|         Cereal|       Online|             M|12/28/2015|251937806|  2/4/2016|      2850|     205.7|   117.11|     586245.0|  333763.5|    252481.5|December| 28|2015|\n",
      "+--------------------+------------+---------------+-------------+--------------+----------+---------+----------+----------+----------+---------+-------------+----------+------------+--------+---+----+\n",
      "only showing top 20 rows\n",
      "\n"
     ]
    }
   ],
   "source": [
    "par_Sales.show()"
   ]
  },
  {
   "cell_type": "code",
   "execution_count": 41,
   "metadata": {},
   "outputs": [
    {
     "data": {
      "text/plain": [
       "['Region',\n",
       " 'Country',\n",
       " 'Item_Type',\n",
       " 'Sales_Channel',\n",
       " 'Order_Priority',\n",
       " 'Order_Date',\n",
       " 'Order_ID',\n",
       " 'Ship_Date',\n",
       " 'Units_Sold',\n",
       " 'Unit_Price',\n",
       " 'Unit_Cost',\n",
       " 'Total_Revenue',\n",
       " 'Total_Cost',\n",
       " 'Total_Profit',\n",
       " 'Month',\n",
       " 'day',\n",
       " 'Year']"
      ]
     },
     "execution_count": 41,
     "metadata": {},
     "output_type": "execute_result"
    }
   ],
   "source": [
    "par_Sales.columns"
   ]
  },
  {
   "cell_type": "code",
   "execution_count": 42,
   "metadata": {},
   "outputs": [],
   "source": [
    "# Updatind the vew again\n",
    "par_Sales.createOrReplaceTempView(\"par_Sales\")"
   ]
  },
  {
   "cell_type": "code",
   "execution_count": 43,
   "metadata": {},
   "outputs": [
    {
     "name": "stdout",
     "output_type": "stream",
     "text": [
      "+--------+-------------------+\n",
      "|   Month|       Total_Profit|\n",
      "+--------+-------------------+\n",
      "|February|5.916011445650001E9|\n",
      "|    July|6.143288995380002E9|\n",
      "|    June|    6.38361831888E9|\n",
      "|   April|     6.4564019358E9|\n",
      "| January|6.584217626599998E9|\n",
      "|   March|6.601035163350001E9|\n",
      "|     May|    6.62534195132E9|\n",
      "+--------+-------------------+\n",
      "\n"
     ]
    }
   ],
   "source": [
    "#SQL Query\n",
    "Profit_per_month = spark.sql(\"SELECT Month, sum(Total_Profit) as Total_Profit FROM par_Sales WHERE Year = '2017' GROUP BY Month ORDER BY 2 ASC\")\n",
    "Profit_per_month.show()"
   ]
  },
  {
   "cell_type": "code",
   "execution_count": 44,
   "metadata": {},
   "outputs": [],
   "source": [
    "# Convertong to pandas dataframe\n",
    "Monthly_profit = Profit_per_month.toPandas()"
   ]
  },
  {
   "cell_type": "code",
   "execution_count": 45,
   "metadata": {},
   "outputs": [],
   "source": [
    "# Setting index to dataframe\n",
    "Monthly_profit.set_index('Month', inplace=True)"
   ]
  },
  {
   "cell_type": "code",
   "execution_count": 46,
   "metadata": {},
   "outputs": [
    {
     "data": {
      "text/plain": [
       "Text(0, 0.5, 'Total profit in USD')"
      ]
     },
     "execution_count": 46,
     "metadata": {},
     "output_type": "execute_result"
    },
    {
     "data": {
      "image/png": "[encoded data removed]",
      "text/plain": [
       "<Figure size 432x288 with 1 Axes>"
      ]
     },
     "metadata": {
      "needs_background": "light"
     },
     "output_type": "display_data"
    }
   ],
   "source": [
    "# Visualization\n",
    "Monthly_profit_visz = Monthly_profit.plot(kind='line',rot = 0,title = \"Monthly Total profit in 2017\")\n",
    "Monthly_profit_visz.set_xlabel(\"Months\")\n",
    "Monthly_profit_visz.set_ylabel(\"Total profit in USD\")"
   ]
  },
  {
   "cell_type": "markdown",
   "metadata": {},
   "source": [
    "##### The END"
   ]
  },
  {
   "cell_type": "code",
   "execution_count": null,
   "metadata": {},
   "outputs": [],
   "source": []
  }
 ],
 "metadata": {
  "kernelspec": {
   "display_name": "Python 3",
   "language": "python",
   "name": "python3"
  },
  "language_info": {
   "codemirror_mode": {
    "name": "ipython",
    "version": 3
   },
   "file_extension": ".py",
   "mimetype": "text/x-python",
   "name": "python",
   "nbconvert_exporter": "python",
   "pygments_lexer": "ipython3",
   "version": "3.7.6"
  }
 },
 "nbformat": 4,
 "nbformat_minor": 4
}
